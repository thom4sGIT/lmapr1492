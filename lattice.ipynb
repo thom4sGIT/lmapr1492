{
 "cells": [
  {
   "cell_type": "code",
   "execution_count": 1,
   "id": "received-genealogy",
   "metadata": {},
   "outputs": [],
   "source": [
    "from pymatgen.ext.matproj import MPRester\n",
    "from pymatgen.io.cif import CifWriter\n",
    "from pymatgen import Lattice\n",
    "from pymatgen.symmetry.analyzer import SpacegroupAnalyzer"
   ]
  },
  {
   "cell_type": "code",
   "execution_count": 2,
   "id": "removed-warning",
   "metadata": {},
   "outputs": [
    {
     "data": {
      "text/plain": [
       "Structure Summary\n",
       "Lattice\n",
       "    abc : 6.231074303143319 6.231074303143319 6.231074092703601\n",
       " angles : 31.251629859340518 31.251629859340518 31.25162528540247\n",
       " volume : 57.787372213155784\n",
       "      A : 6.000782 -1.678363 0.0\n",
       "      B : 6.000782 1.678363 0.0\n",
       "      C : 5.531359 0.0 2.868859\n",
       "PeriodicSite: Sr (0.0000, 0.0000, 0.0000) [0.0000, 0.0000, 0.0000]\n",
       "PeriodicSite: Hf (8.7665, 0.0000, 1.4344) [0.5000, 0.5000, 0.5000]\n",
       "PeriodicSite: N (13.4542, 0.0000, 2.2015) [0.7674, 0.7674, 0.7674]\n",
       "PeriodicSite: N (4.0787, 0.0000, 0.6674) [0.2326, 0.2326, 0.2326]"
      ]
     },
     "execution_count": 2,
     "metadata": {},
     "output_type": "execute_result"
    }
   ],
   "source": [
    "# Télécharge la structure du matériau étudié, SrHfN2  mp-9383\n",
    "with MPRester(\"dFloIuOFLKpmmcc3\") as m:\n",
    "\n",
    "    s = m.get_structure_by_material_id(\"mp-9383\")\n",
    "    \n",
    "s"
   ]
  },
  {
   "cell_type": "code",
   "execution_count": 3,
   "id": "commercial-manor",
   "metadata": {},
   "outputs": [
    {
     "name": "stdout",
     "output_type": "stream",
     "text": [
      "Vecteurs de base du réseau direct : \n",
      "6.000782 -1.678363 0.000000\n",
      "6.000782 1.678363 0.000000\n",
      "5.531359 0.000000 2.868859\n"
     ]
    }
   ],
   "source": [
    "# Réseau direct \n",
    "print('Vecteurs de base du réseau direct : ')\n",
    "print(s.lattice)"
   ]
  },
  {
   "cell_type": "code",
   "execution_count": 4,
   "id": "answering-zoning",
   "metadata": {},
   "outputs": [
    {
     "name": "stdout",
     "output_type": "stream",
     "text": [
      "Vecteurs de base du réseau réciproque : \n",
      "0.523531 -1.871820 -1.009403\n",
      "0.523531 1.871820 -1.009403\n",
      "0.000000 0.000000 2.190134\n"
     ]
    }
   ],
   "source": [
    "# Réseau réciproque\n",
    "print('Vecteurs de base du réseau réciproque : ')\n",
    "print(s.lattice.reciprocal_lattice)"
   ]
  },
  {
   "cell_type": "code",
   "execution_count": 5,
   "id": "expressed-connection",
   "metadata": {},
   "outputs": [],
   "source": [
    "# Analyse du cristal \n",
    "x = SpacegroupAnalyzer(s)"
   ]
  },
  {
   "cell_type": "code",
   "execution_count": 6,
   "id": "colonial-church",
   "metadata": {},
   "outputs": [
    {
     "name": "stdout",
     "output_type": "stream",
     "text": [
      "Type de maille : \n",
      "rhombohedral\n"
     ]
    }
   ],
   "source": [
    "print('Type de maille : ')\n",
    "print(x.get_lattice_type())"
   ]
  },
  {
   "cell_type": "code",
   "execution_count": 7,
   "id": "built-builder",
   "metadata": {},
   "outputs": [
    {
     "name": "stdout",
     "output_type": "stream",
     "text": [
      "Système cristallin : \n",
      "trigonal\n"
     ]
    }
   ],
   "source": [
    "print('Système cristallin : ')\n",
    "print(x.get_crystal_system())"
   ]
  },
  {
   "cell_type": "code",
   "execution_count": 8,
   "id": "senior-denver",
   "metadata": {},
   "outputs": [
    {
     "name": "stdout",
     "output_type": "stream",
     "text": [
      "Groupe ponctuel : \n",
      "-3m\n"
     ]
    }
   ],
   "source": [
    "print('Groupe ponctuel : ')\n",
    "print(x.get_point_group_symbol())"
   ]
  }
 ],
 "metadata": {
  "kernelspec": {
   "display_name": "Python 3",
   "language": "python",
   "name": "python3"
  },
  "language_info": {
   "codemirror_mode": {
    "name": "ipython",
    "version": 3
   },
   "file_extension": ".py",
   "mimetype": "text/x-python",
   "name": "python",
   "nbconvert_exporter": "python",
   "pygments_lexer": "ipython3",
   "version": "3.6.8"
  }
 },
 "nbformat": 4,
 "nbformat_minor": 5
}
