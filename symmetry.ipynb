{
 "cells": [
  {
   "cell_type": "code",
   "execution_count": 1,
   "id": "twelve-penguin",
   "metadata": {},
   "outputs": [],
   "source": [
    "from pymatgen.ext.matproj import MPRester\n",
    "from pymatgen.io.cif import CifWriter\n",
    "from pymatgen.symmetry.analyzer import SpacegroupAnalyzer \n",
    "from pymatgen.core.operations import SymmOp \n",
    "import matplotlib.pyplot as plt\n",
    "import matplotlib.image as img"
   ]
  },
  {
   "cell_type": "code",
   "execution_count": 2,
   "id": "physical-debut",
   "metadata": {},
   "outputs": [
    {
     "data": {
      "text/plain": [
       "Structure Summary\n",
       "Lattice\n",
       "    abc : 6.231074303143319 6.231074303143319 6.231074092703601\n",
       " angles : 31.251629859340518 31.251629859340518 31.25162528540247\n",
       " volume : 57.787372213155784\n",
       "      A : 6.000782 -1.678363 0.0\n",
       "      B : 6.000782 1.678363 0.0\n",
       "      C : 5.531359 0.0 2.868859\n",
       "PeriodicSite: Sr (0.0000, 0.0000, 0.0000) [0.0000, 0.0000, 0.0000]\n",
       "PeriodicSite: Hf (8.7665, 0.0000, 1.4344) [0.5000, 0.5000, 0.5000]\n",
       "PeriodicSite: N (13.4542, 0.0000, 2.2015) [0.7674, 0.7674, 0.7674]\n",
       "PeriodicSite: N (4.0787, 0.0000, 0.6674) [0.2326, 0.2326, 0.2326]"
      ]
     },
     "execution_count": 2,
     "metadata": {},
     "output_type": "execute_result"
    }
   ],
   "source": [
    "# Télécharge la structure du matériau étudié, SrHfN2  mp-9383\n",
    "with MPRester(\"dFloIuOFLKpmmcc3\") as m:\n",
    "\n",
    "    s = m.get_structure_by_material_id(\"mp-9383\")\n",
    "    \n",
    "s"
   ]
  },
  {
   "cell_type": "code",
   "execution_count": 3,
   "id": "english-custody",
   "metadata": {},
   "outputs": [],
   "source": [
    "# Analyse de la structure dans une cellule conventionnelle standardisée\n",
    "x = SpacegroupAnalyzer(s)\n",
    "convss = x.get_conventional_standard_structure()\n",
    "y = SpacegroupAnalyzer(convss)"
   ]
  },
  {
   "cell_type": "code",
   "execution_count": 4,
   "id": "unique-suspect",
   "metadata": {},
   "outputs": [
    {
     "data": {
      "text/plain": [
       "[Rot:\n",
       " [[1. 0. 0.]\n",
       "  [0. 1. 0.]\n",
       "  [0. 0. 1.]]\n",
       " tau\n",
       " [0. 0. 0.],\n",
       " Rot:\n",
       " [[-1.  0.  0.]\n",
       "  [ 0. -1.  0.]\n",
       "  [ 0.  0. -1.]]\n",
       " tau\n",
       " [0. 0. 0.],\n",
       " Rot:\n",
       " [[ 0. -1.  0.]\n",
       "  [ 1. -1.  0.]\n",
       "  [ 0.  0.  1.]]\n",
       " tau\n",
       " [0. 0. 0.],\n",
       " Rot:\n",
       " [[ 0.  1.  0.]\n",
       "  [-1.  1.  0.]\n",
       "  [ 0.  0. -1.]]\n",
       " tau\n",
       " [0. 0. 0.],\n",
       " Rot:\n",
       " [[-1.  1.  0.]\n",
       "  [-1.  0.  0.]\n",
       "  [ 0.  0.  1.]]\n",
       " tau\n",
       " [0. 0. 0.],\n",
       " Rot:\n",
       " [[ 1. -1.  0.]\n",
       "  [ 1.  0.  0.]\n",
       "  [ 0.  0. -1.]]\n",
       " tau\n",
       " [0. 0. 0.],\n",
       " Rot:\n",
       " [[ 0.  1.  0.]\n",
       "  [ 1.  0.  0.]\n",
       "  [ 0.  0. -1.]]\n",
       " tau\n",
       " [0. 0. 0.],\n",
       " Rot:\n",
       " [[ 0. -1.  0.]\n",
       "  [-1.  0.  0.]\n",
       "  [ 0.  0.  1.]]\n",
       " tau\n",
       " [0. 0. 0.],\n",
       " Rot:\n",
       " [[ 1. -1.  0.]\n",
       "  [ 0. -1.  0.]\n",
       "  [ 0.  0. -1.]]\n",
       " tau\n",
       " [0. 0. 0.],\n",
       " Rot:\n",
       " [[-1.  1.  0.]\n",
       "  [ 0.  1.  0.]\n",
       "  [ 0.  0.  1.]]\n",
       " tau\n",
       " [0. 0. 0.],\n",
       " Rot:\n",
       " [[-1.  0.  0.]\n",
       "  [-1.  1.  0.]\n",
       "  [ 0.  0. -1.]]\n",
       " tau\n",
       " [0. 0. 0.],\n",
       " Rot:\n",
       " [[ 1.  0.  0.]\n",
       "  [ 1. -1.  0.]\n",
       "  [ 0.  0.  1.]]\n",
       " tau\n",
       " [0. 0. 0.],\n",
       " Rot:\n",
       " [[1. 0. 0.]\n",
       "  [0. 1. 0.]\n",
       "  [0. 0. 1.]]\n",
       " tau\n",
       " [0.66666667 0.33333333 0.33333333],\n",
       " Rot:\n",
       " [[-1.  0.  0.]\n",
       "  [ 0. -1.  0.]\n",
       "  [ 0.  0. -1.]]\n",
       " tau\n",
       " [0.66666667 0.33333333 0.33333333],\n",
       " Rot:\n",
       " [[ 0. -1.  0.]\n",
       "  [ 1. -1.  0.]\n",
       "  [ 0.  0.  1.]]\n",
       " tau\n",
       " [0.66666667 0.33333333 0.33333333],\n",
       " Rot:\n",
       " [[ 0.  1.  0.]\n",
       "  [-1.  1.  0.]\n",
       "  [ 0.  0. -1.]]\n",
       " tau\n",
       " [0.66666667 0.33333333 0.33333333],\n",
       " Rot:\n",
       " [[-1.  1.  0.]\n",
       "  [-1.  0.  0.]\n",
       "  [ 0.  0.  1.]]\n",
       " tau\n",
       " [0.66666667 0.33333333 0.33333333],\n",
       " Rot:\n",
       " [[ 1. -1.  0.]\n",
       "  [ 1.  0.  0.]\n",
       "  [ 0.  0. -1.]]\n",
       " tau\n",
       " [0.66666667 0.33333333 0.33333333],\n",
       " Rot:\n",
       " [[ 0.  1.  0.]\n",
       "  [ 1.  0.  0.]\n",
       "  [ 0.  0. -1.]]\n",
       " tau\n",
       " [0.66666667 0.33333333 0.33333333],\n",
       " Rot:\n",
       " [[ 0. -1.  0.]\n",
       "  [-1.  0.  0.]\n",
       "  [ 0.  0.  1.]]\n",
       " tau\n",
       " [0.66666667 0.33333333 0.33333333],\n",
       " Rot:\n",
       " [[ 1. -1.  0.]\n",
       "  [ 0. -1.  0.]\n",
       "  [ 0.  0. -1.]]\n",
       " tau\n",
       " [0.66666667 0.33333333 0.33333333],\n",
       " Rot:\n",
       " [[-1.  1.  0.]\n",
       "  [ 0.  1.  0.]\n",
       "  [ 0.  0.  1.]]\n",
       " tau\n",
       " [0.66666667 0.33333333 0.33333333],\n",
       " Rot:\n",
       " [[-1.  0.  0.]\n",
       "  [-1.  1.  0.]\n",
       "  [ 0.  0. -1.]]\n",
       " tau\n",
       " [0.66666667 0.33333333 0.33333333],\n",
       " Rot:\n",
       " [[ 1.  0.  0.]\n",
       "  [ 1. -1.  0.]\n",
       "  [ 0.  0.  1.]]\n",
       " tau\n",
       " [0.66666667 0.33333333 0.33333333],\n",
       " Rot:\n",
       " [[1. 0. 0.]\n",
       "  [0. 1. 0.]\n",
       "  [0. 0. 1.]]\n",
       " tau\n",
       " [0.33333333 0.66666667 0.66666667],\n",
       " Rot:\n",
       " [[-1.  0.  0.]\n",
       "  [ 0. -1.  0.]\n",
       "  [ 0.  0. -1.]]\n",
       " tau\n",
       " [0.33333333 0.66666667 0.66666667],\n",
       " Rot:\n",
       " [[ 0. -1.  0.]\n",
       "  [ 1. -1.  0.]\n",
       "  [ 0.  0.  1.]]\n",
       " tau\n",
       " [0.33333333 0.66666667 0.66666667],\n",
       " Rot:\n",
       " [[ 0.  1.  0.]\n",
       "  [-1.  1.  0.]\n",
       "  [ 0.  0. -1.]]\n",
       " tau\n",
       " [0.33333333 0.66666667 0.66666667],\n",
       " Rot:\n",
       " [[-1.  1.  0.]\n",
       "  [-1.  0.  0.]\n",
       "  [ 0.  0.  1.]]\n",
       " tau\n",
       " [0.33333333 0.66666667 0.66666667],\n",
       " Rot:\n",
       " [[ 1. -1.  0.]\n",
       "  [ 1.  0.  0.]\n",
       "  [ 0.  0. -1.]]\n",
       " tau\n",
       " [0.33333333 0.66666667 0.66666667],\n",
       " Rot:\n",
       " [[ 0.  1.  0.]\n",
       "  [ 1.  0.  0.]\n",
       "  [ 0.  0. -1.]]\n",
       " tau\n",
       " [0.33333333 0.66666667 0.66666667],\n",
       " Rot:\n",
       " [[ 0. -1.  0.]\n",
       "  [-1.  0.  0.]\n",
       "  [ 0.  0.  1.]]\n",
       " tau\n",
       " [0.33333333 0.66666667 0.66666667],\n",
       " Rot:\n",
       " [[ 1. -1.  0.]\n",
       "  [ 0. -1.  0.]\n",
       "  [ 0.  0. -1.]]\n",
       " tau\n",
       " [0.33333333 0.66666667 0.66666667],\n",
       " Rot:\n",
       " [[-1.  1.  0.]\n",
       "  [ 0.  1.  0.]\n",
       "  [ 0.  0.  1.]]\n",
       " tau\n",
       " [0.33333333 0.66666667 0.66666667],\n",
       " Rot:\n",
       " [[-1.  0.  0.]\n",
       "  [-1.  1.  0.]\n",
       "  [ 0.  0. -1.]]\n",
       " tau\n",
       " [0.33333333 0.66666667 0.66666667],\n",
       " Rot:\n",
       " [[ 1.  0.  0.]\n",
       "  [ 1. -1.  0.]\n",
       "  [ 0.  0.  1.]]\n",
       " tau\n",
       " [0.33333333 0.66666667 0.66666667]]"
      ]
     },
     "execution_count": 4,
     "metadata": {},
     "output_type": "execute_result"
    }
   ],
   "source": [
    "#Opérations de symmétries\n",
    "OdS = y.get_symmetry_operations()\n",
    "OdS"
   ]
  },
  {
   "cell_type": "code",
   "execution_count": 5,
   "id": "southeast-numbers",
   "metadata": {},
   "outputs": [
    {
     "data": {
      "text/plain": [
       "[PeriodicSite: Sr (0.0000, 0.0000, 0.0000) [0.0000, 0.0000, 0.0000],\n",
       " PeriodicSite: Sr (1.6784, -0.9690, 5.9220) [0.6667, 0.3333, 0.3333],\n",
       " PeriodicSite: Sr (1.6784, 0.9690, 11.8441) [0.3333, 0.6667, 0.6667],\n",
       " PeriodicSite: Hf (1.6784, 0.9690, 2.9610) [0.3333, 0.6667, 0.1667],\n",
       " PeriodicSite: Hf (3.3567, 0.0000, 8.8830) [1.0000, 1.0000, 0.5000],\n",
       " PeriodicSite: Hf (1.6784, -0.9690, 14.8051) [0.6667, 0.3333, 0.8333],\n",
       " PeriodicSite: N (0.0000, 0.0000, 4.1330) [0.0000, 0.0000, 0.2326],\n",
       " PeriodicSite: N (1.6784, -0.9690, 1.7891) [0.6667, 0.3333, 0.1007],\n",
       " PeriodicSite: N (1.6784, -0.9690, 10.0550) [0.6667, 0.3333, 0.5660],\n",
       " PeriodicSite: N (1.6784, 0.9690, 7.7111) [0.3333, 0.6667, 0.4340],\n",
       " PeriodicSite: N (1.6784, 0.9690, 15.9770) [0.3333, 0.6667, 0.8993],\n",
       " PeriodicSite: N (0.0000, 0.0000, 13.6331) [0.0000, 0.0000, 0.7674]]"
      ]
     },
     "execution_count": 5,
     "metadata": {},
     "output_type": "execute_result"
    }
   ],
   "source": [
    "# Sites des atomes dans la structure conventionnelle standardisée\n",
    "convss.sites"
   ]
  },
  {
   "cell_type": "code",
   "execution_count": 6,
   "id": "undefined-sampling",
   "metadata": {},
   "outputs": [
    {
     "name": "stdout",
     "output_type": "stream",
     "text": [
      "[ 0.3334  0.6667 -0.3333]\n",
      "[[ 1. -1.  0.]\n",
      " [ 1.  0.  0.]\n",
      " [ 0.  0. -1.]]\n",
      "[0. 0. 0.]\n"
     ]
    }
   ],
   "source": [
    "# Première opération de symétrie\n",
    "sym1 = OdS[5]\n",
    "print(sym1.operate((0.6667, 0.3333, 0.3333)))\n",
    "print(sym1.rotation_matrix)\n",
    "print(sym1.translation_vector)"
   ]
  },
  {
   "cell_type": "code",
   "execution_count": 7,
   "id": "prepared-street",
   "metadata": {},
   "outputs": [
    {
     "data": {
      "application/vnd.jupyter.widget-view+json": {
       "model_id": "e1ad9fea4f6b45fca9961f577ddce268",
       "version_major": 2,
       "version_minor": 0
      },
      "text/plain": [
       "JsmolView(layout=Layout(height='600px'))"
      ]
     },
     "metadata": {},
     "output_type": "display_data"
    }
   ],
   "source": [
    "from jupyter_jsmol import JsmolView\n",
    "from ipywidgets import Layout, widgets, interact\n",
    "from IPython.display import display\n",
    "\n",
    "view2 = JsmolView(layout=Layout(height=\"600px\"))\n",
    "display(view2)\n",
    "view2.load('SrHfN2_symmetrized_download.cif', '{1 1 1}')\n",
    "# view2.script('load data/CaF2.cif {1 1 1}')\n"
   ]
  },
  {
   "cell_type": "code",
   "execution_count": 8,
   "id": "exciting-diary",
   "metadata": {},
   "outputs": [],
   "source": [
    "view2.script('select atomno = 1; color red; draw SYMOP 20')"
   ]
  },
  {
   "cell_type": "code",
   "execution_count": 32,
   "id": "patient-mechanics",
   "metadata": {},
   "outputs": [],
   "source": [
    "view2.script('rotate off')"
   ]
  },
  {
   "cell_type": "code",
   "execution_count": 42,
   "id": "impossible-following",
   "metadata": {},
   "outputs": [],
   "source": [
    "view2.script('select atomno=1; color red; select atomno=3; color blue')"
   ]
  },
  {
   "cell_type": "code",
   "execution_count": null,
   "id": "educated-finance",
   "metadata": {},
   "outputs": [],
   "source": []
  }
 ],
 "metadata": {
  "kernelspec": {
   "display_name": "Python 3",
   "language": "python",
   "name": "python3"
  },
  "language_info": {
   "codemirror_mode": {
    "name": "ipython",
    "version": 3
   },
   "file_extension": ".py",
   "mimetype": "text/x-python",
   "name": "python",
   "nbconvert_exporter": "python",
   "pygments_lexer": "ipython3",
   "version": "3.6.8"
  }
 },
 "nbformat": 4,
 "nbformat_minor": 5
}
