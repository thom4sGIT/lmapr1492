{
 "cells": [
  {
   "cell_type": "code",
   "execution_count": 1,
   "id": "liquid-parking",
   "metadata": {},
   "outputs": [],
   "source": [
    "from pymatgen.ext.matproj import MPRester\n",
    "from pymatgen.io.cif import CifWriter"
   ]
  },
  {
   "cell_type": "code",
   "execution_count": 2,
   "id": "active-tennessee",
   "metadata": {},
   "outputs": [
    {
     "data": {
      "text/plain": [
       "Structure Summary\n",
       "Lattice\n",
       "    abc : 6.231074303143319 6.231074303143319 6.231074092703601\n",
       " angles : 31.251629859340518 31.251629859340518 31.25162528540247\n",
       " volume : 57.787372213155784\n",
       "      A : 6.000782 -1.678363 0.0\n",
       "      B : 6.000782 1.678363 0.0\n",
       "      C : 5.531359 0.0 2.868859\n",
       "PeriodicSite: Sr (0.0000, 0.0000, 0.0000) [0.0000, 0.0000, 0.0000]\n",
       "PeriodicSite: Hf (8.7665, 0.0000, 1.4344) [0.5000, 0.5000, 0.5000]\n",
       "PeriodicSite: N (13.4542, 0.0000, 2.2015) [0.7674, 0.7674, 0.7674]\n",
       "PeriodicSite: N (4.0787, 0.0000, 0.6674) [0.2326, 0.2326, 0.2326]"
      ]
     },
     "execution_count": 2,
     "metadata": {},
     "output_type": "execute_result"
    }
   ],
   "source": [
    "# Télécharge la structure du matériau étudié, SrHfN2  mp-9383\n",
    "with MPRester(\"dFloIuOFLKpmmcc3\") as m:\n",
    "\n",
    "    structure = m.get_structure_by_material_id(\"mp-9383\")\n",
    "    \n",
    "structure"
   ]
  },
  {
   "cell_type": "code",
   "execution_count": 3,
   "id": "experimental-franklin",
   "metadata": {},
   "outputs": [],
   "source": [
    "# Ecris le fichier CIF de la structure primitive \n",
    "w1 = CifWriter(structure)\n",
    "w1.write_file('SrHfN2_download.cif')"
   ]
  },
  {
   "cell_type": "code",
   "execution_count": 4,
   "id": "sunrise-median",
   "metadata": {},
   "outputs": [],
   "source": [
    "# Ecris le fichier CIF de la structure symmetrisé  \n",
    "w2 = CifWriter(struct=structure, symprec=1)\n",
    "w2.write_file('SrHfN2_symmetrized_download.cif')"
   ]
  }
 ],
 "metadata": {
  "kernelspec": {
   "display_name": "Python 3",
   "language": "python",
   "name": "python3"
  },
  "language_info": {
   "codemirror_mode": {
    "name": "ipython",
    "version": 3
   },
   "file_extension": ".py",
   "mimetype": "text/x-python",
   "name": "python",
   "nbconvert_exporter": "python",
   "pygments_lexer": "ipython3",
   "version": "3.6.8"
  }
 },
 "nbformat": 4,
 "nbformat_minor": 5
}
